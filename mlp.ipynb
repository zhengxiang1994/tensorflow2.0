{
 "cells": [
  {
   "cell_type": "code",
   "execution_count": 3,
   "metadata": {},
   "outputs": [],
   "source": [
    "import tensorflow as tf\n",
    "import pandas as pd\n",
    "import matplotlib.pyplot as plt"
   ]
  },
  {
   "cell_type": "code",
   "execution_count": 4,
   "metadata": {},
   "outputs": [
    {
     "name": "stdout",
     "output_type": "stream",
     "text": [
      "      TV  radio  newspaper  sales\n",
      "0  230.1   37.8       69.2   22.1\n",
      "1   44.5   39.3       45.1   10.4\n",
      "2   17.2   45.9       69.3    9.3\n",
      "3  151.5   41.3       58.5   18.5\n",
      "4  180.8   10.8       58.4   12.9\n"
     ]
    }
   ],
   "source": [
    "data = pd.read_csv('./data/advertising.csv')\n",
    "print(data.head())"
   ]
  },
  {
   "cell_type": "code",
   "execution_count": 5,
   "metadata": {},
   "outputs": [
    {
     "data": {
      "image/png": "[encoded data removed]",
      "text/plain": [
       "<Figure size 432x288 with 1 Axes>"
      ]
     },
     "metadata": {
      "needs_background": "light"
     },
     "output_type": "display_data"
    }
   ],
   "source": [
    "plt.scatter(data['TV'], data['sales'])\n",
    "plt.show()"
   ]
  },
  {
   "cell_type": "code",
   "execution_count": 12,
   "metadata": {},
   "outputs": [],
   "source": [
    "# features and labels\n",
    "x = data.iloc[:, :-1]\n",
    "y = data.iloc[:, -1]"
   ]
  },
  {
   "cell_type": "code",
   "execution_count": 13,
   "metadata": {},
   "outputs": [
    {
     "name": "stdout",
     "output_type": "stream",
     "text": [
      "Model: \"sequential_1\"\n",
      "_________________________________________________________________\n",
      "Layer (type)                 Output Shape              Param #   \n",
      "=================================================================\n",
      "dense_2 (Dense)              (None, 10)                40        \n",
      "_________________________________________________________________\n",
      "dense_3 (Dense)              (None, 1)                 11        \n",
      "=================================================================\n",
      "Total params: 51\n",
      "Trainable params: 51\n",
      "Non-trainable params: 0\n",
      "_________________________________________________________________\n"
     ]
    }
   ],
   "source": [
    "# construct model\n",
    "model = tf.keras.Sequential(\n",
    "    [tf.keras.layers.Dense(units=10, input_shape=(3,), activation='relu'),\n",
    "     tf.keras.layers.Dense(units=1)]   \n",
    ")\n",
    "model.summary()"
   ]
  },
  {
   "cell_type": "code",
   "execution_count": 20,
   "metadata": {},
   "outputs": [
    {
     "name": "stdout",
     "output_type": "stream",
     "text": [
      "Train on 200 samples\n",
      "Epoch 1/100\n",
      "200/200 [==============================] - 1s 4ms/sample - loss: 3.9540\n",
      "Epoch 2/100\n",
      "200/200 [==============================] - 0s 128us/sample - loss: 3.7675\n",
      "Epoch 3/100\n",
      "200/200 [==============================] - 0s 199us/sample - loss: 3.7484\n",
      "Epoch 4/100\n",
      "200/200 [==============================] - 0s 167us/sample - loss: 3.6883\n",
      "Epoch 5/100\n",
      "200/200 [==============================] - 0s 129us/sample - loss: 3.6649\n",
      "Epoch 6/100\n",
      "200/200 [==============================] - 0s 120us/sample - loss: 3.6000\n",
      "Epoch 7/100\n",
      "200/200 [==============================] - 0s 114us/sample - loss: 3.5544\n",
      "Epoch 8/100\n",
      "200/200 [==============================] - 0s 139us/sample - loss: 3.4965\n",
      "Epoch 9/100\n",
      "200/200 [==============================] - 0s 165us/sample - loss: 3.4681\n",
      "Epoch 10/100\n",
      "200/200 [==============================] - 0s 177us/sample - loss: 3.4487\n",
      "Epoch 11/100\n",
      "200/200 [==============================] - 0s 169us/sample - loss: 3.4241\n",
      "Epoch 12/100\n",
      "200/200 [==============================] - 0s 168us/sample - loss: 3.3905\n",
      "Epoch 13/100\n",
      "200/200 [==============================] - 0s 144us/sample - loss: 3.3471\n",
      "Epoch 14/100\n",
      "200/200 [==============================] - 0s 138us/sample - loss: 3.2984\n",
      "Epoch 15/100\n",
      "200/200 [==============================] - 0s 145us/sample - loss: 3.2972\n",
      "Epoch 16/100\n",
      "200/200 [==============================] - 0s 238us/sample - loss: 3.2841\n",
      "Epoch 17/100\n",
      "200/200 [==============================] - 0s 152us/sample - loss: 3.2511\n",
      "Epoch 18/100\n",
      "200/200 [==============================] - 0s 169us/sample - loss: 3.3074\n",
      "Epoch 19/100\n",
      "200/200 [==============================] - 0s 162us/sample - loss: 3.1653\n",
      "Epoch 20/100\n",
      "200/200 [==============================] - 0s 123us/sample - loss: 3.1723\n",
      "Epoch 21/100\n",
      "200/200 [==============================] - 0s 176us/sample - loss: 3.1241\n",
      "Epoch 22/100\n",
      "200/200 [==============================] - 0s 207us/sample - loss: 3.1200\n",
      "Epoch 23/100\n",
      "200/200 [==============================] - 0s 140us/sample - loss: 3.0808\n",
      "Epoch 24/100\n",
      "200/200 [==============================] - 0s 136us/sample - loss: 3.0540\n",
      "Epoch 25/100\n",
      "200/200 [==============================] - 0s 228us/sample - loss: 3.0300\n",
      "Epoch 26/100\n",
      "200/200 [==============================] - 0s 163us/sample - loss: 3.0463\n",
      "Epoch 27/100\n",
      "200/200 [==============================] - 0s 117us/sample - loss: 3.0761\n",
      "Epoch 28/100\n",
      "200/200 [==============================] - 0s 141us/sample - loss: 2.9636\n",
      "Epoch 29/100\n",
      "200/200 [==============================] - 0s 170us/sample - loss: 2.9474\n",
      "Epoch 30/100\n",
      "200/200 [==============================] - 0s 122us/sample - loss: 2.9328\n",
      "Epoch 31/100\n",
      "200/200 [==============================] - 0s 136us/sample - loss: 2.9384\n",
      "Epoch 32/100\n",
      "200/200 [==============================] - 0s 171us/sample - loss: 2.8986\n",
      "Epoch 33/100\n",
      "200/200 [==============================] - 0s 217us/sample - loss: 2.8535\n",
      "Epoch 34/100\n",
      "200/200 [==============================] - 0s 171us/sample - loss: 2.8609\n",
      "Epoch 35/100\n",
      "200/200 [==============================] - 0s 195us/sample - loss: 2.9255\n",
      "Epoch 36/100\n",
      "200/200 [==============================] - 0s 214us/sample - loss: 3.2095\n",
      "Epoch 37/100\n",
      "200/200 [==============================] - 0s 180us/sample - loss: 3.0549\n",
      "Epoch 38/100\n",
      "200/200 [==============================] - 0s 158us/sample - loss: 2.9639\n",
      "Epoch 39/100\n",
      "200/200 [==============================] - 0s 144us/sample - loss: 2.8910\n",
      "Epoch 40/100\n",
      "200/200 [==============================] - 0s 146us/sample - loss: 2.7670\n",
      "Epoch 41/100\n",
      "200/200 [==============================] - 0s 153us/sample - loss: 2.7355\n",
      "Epoch 42/100\n",
      "200/200 [==============================] - 0s 155us/sample - loss: 2.7386\n",
      "Epoch 43/100\n",
      "200/200 [==============================] - 0s 156us/sample - loss: 2.7055\n",
      "Epoch 44/100\n",
      "200/200 [==============================] - 0s 155us/sample - loss: 2.7139\n",
      "Epoch 45/100\n",
      "200/200 [==============================] - 0s 170us/sample - loss: 2.6839\n",
      "Epoch 46/100\n",
      "200/200 [==============================] - 0s 159us/sample - loss: 2.6896\n",
      "Epoch 47/100\n",
      "200/200 [==============================] - 0s 157us/sample - loss: 2.6986\n",
      "Epoch 48/100\n",
      "200/200 [==============================] - 0s 151us/sample - loss: 2.6601\n",
      "Epoch 49/100\n",
      "200/200 [==============================] - 0s 143us/sample - loss: 2.6355\n",
      "Epoch 50/100\n",
      "200/200 [==============================] - 0s 144us/sample - loss: 2.6387\n",
      "Epoch 51/100\n",
      "200/200 [==============================] - 0s 137us/sample - loss: 2.6649\n",
      "Epoch 52/100\n",
      "200/200 [==============================] - 0s 259us/sample - loss: 2.5970\n",
      "Epoch 53/100\n",
      "200/200 [==============================] - 0s 169us/sample - loss: 2.5966\n",
      "Epoch 54/100\n",
      "200/200 [==============================] - 0s 170us/sample - loss: 2.5952\n",
      "Epoch 55/100\n",
      "200/200 [==============================] - 0s 165us/sample - loss: 2.5941\n",
      "Epoch 56/100\n",
      "200/200 [==============================] - 0s 158us/sample - loss: 2.5575\n",
      "Epoch 57/100\n",
      "200/200 [==============================] - 0s 197us/sample - loss: 2.6821\n",
      "Epoch 58/100\n",
      "200/200 [==============================] - 0s 166us/sample - loss: 2.5965\n",
      "Epoch 59/100\n",
      "200/200 [==============================] - 0s 160us/sample - loss: 2.5618\n",
      "Epoch 60/100\n",
      "200/200 [==============================] - 0s 165us/sample - loss: 2.5114\n",
      "Epoch 61/100\n",
      "200/200 [==============================] - 0s 140us/sample - loss: 2.5019\n",
      "Epoch 62/100\n",
      "200/200 [==============================] - 0s 130us/sample - loss: 2.5191\n",
      "Epoch 63/100\n",
      "200/200 [==============================] - 0s 206us/sample - loss: 2.6077\n",
      "Epoch 64/100\n",
      "200/200 [==============================] - 0s 161us/sample - loss: 2.6454\n",
      "Epoch 65/100\n",
      "200/200 [==============================] - 0s 173us/sample - loss: 2.5126\n",
      "Epoch 66/100\n",
      "200/200 [==============================] - 0s 154us/sample - loss: 2.4726\n",
      "Epoch 67/100\n",
      "200/200 [==============================] - 0s 192us/sample - loss: 2.4467\n",
      "Epoch 68/100\n",
      "200/200 [==============================] - 0s 161us/sample - loss: 2.4798\n",
      "Epoch 69/100\n",
      "200/200 [==============================] - 0s 163us/sample - loss: 2.4429\n",
      "Epoch 70/100\n",
      "200/200 [==============================] - 0s 185us/sample - loss: 2.4205\n",
      "Epoch 71/100\n",
      "200/200 [==============================] - 0s 251us/sample - loss: 2.4048\n",
      "Epoch 72/100\n",
      "200/200 [==============================] - 0s 245us/sample - loss: 2.3959\n",
      "Epoch 73/100\n",
      "200/200 [==============================] - 0s 172us/sample - loss: 2.4514\n",
      "Epoch 74/100\n",
      "200/200 [==============================] - 0s 158us/sample - loss: 2.3803\n",
      "Epoch 75/100\n",
      "200/200 [==============================] - 0s 181us/sample - loss: 2.3679\n",
      "Epoch 76/100\n",
      "200/200 [==============================] - 0s 170us/sample - loss: 2.3616\n",
      "Epoch 77/100\n",
      "200/200 [==============================] - 0s 128us/sample - loss: 2.3962\n",
      "Epoch 78/100\n",
      "200/200 [==============================] - 0s 176us/sample - loss: 2.3392\n",
      "Epoch 79/100\n",
      "200/200 [==============================] - 0s 169us/sample - loss: 2.3245\n",
      "Epoch 80/100\n",
      "200/200 [==============================] - 0s 167us/sample - loss: 2.3131\n",
      "Epoch 81/100\n",
      "200/200 [==============================] - 0s 149us/sample - loss: 2.3060\n",
      "Epoch 82/100\n",
      "200/200 [==============================] - 0s 134us/sample - loss: 2.3815\n",
      "Epoch 83/100\n",
      "200/200 [==============================] - 0s 146us/sample - loss: 2.3701\n",
      "Epoch 84/100\n",
      "200/200 [==============================] - 0s 150us/sample - loss: 2.2548\n",
      "Epoch 85/100\n",
      "200/200 [==============================] - 0s 138us/sample - loss: 2.2392\n",
      "Epoch 86/100\n",
      "200/200 [==============================] - 0s 172us/sample - loss: 2.2183\n",
      "Epoch 87/100\n",
      "200/200 [==============================] - 0s 133us/sample - loss: 2.2245\n",
      "Epoch 88/100\n",
      "200/200 [==============================] - ETA: 0s - loss: 2.291 - 0s 133us/sample - loss: 2.3273\n",
      "Epoch 89/100\n",
      "200/200 [==============================] - 0s 173us/sample - loss: 2.1742\n",
      "Epoch 90/100\n",
      "200/200 [==============================] - 0s 164us/sample - loss: 2.1735\n",
      "Epoch 91/100\n",
      "200/200 [==============================] - 0s 232us/sample - loss: 2.1449\n",
      "Epoch 92/100\n",
      "200/200 [==============================] - 0s 154us/sample - loss: 2.1488\n",
      "Epoch 93/100\n",
      "200/200 [==============================] - 0s 139us/sample - loss: 2.1479\n",
      "Epoch 94/100\n"
     ]
    },
    {
     "name": "stdout",
     "output_type": "stream",
     "text": [
      "200/200 [==============================] - 0s 166us/sample - loss: 2.2132\n",
      "Epoch 95/100\n",
      "200/200 [==============================] - 0s 183us/sample - loss: 2.1263\n",
      "Epoch 96/100\n",
      "200/200 [==============================] - 0s 169us/sample - loss: 2.0951\n",
      "Epoch 97/100\n",
      "200/200 [==============================] - 0s 141us/sample - loss: 2.1033\n",
      "Epoch 98/100\n",
      "200/200 [==============================] - 0s 108us/sample - loss: 2.1048\n",
      "Epoch 99/100\n",
      "200/200 [==============================] - 0s 138us/sample - loss: 2.0628\n",
      "Epoch 100/100\n",
      "200/200 [==============================] - 0s 144us/sample - loss: 2.0910\n"
     ]
    },
    {
     "data": {
      "text/plain": [
       "<tensorflow.python.keras.callbacks.History at 0x134b82668>"
      ]
     },
     "execution_count": 20,
     "metadata": {},
     "output_type": "execute_result"
    }
   ],
   "source": [
    "# optimization\n",
    "model.compile(optimizer='adam', loss='mse')\n",
    "model.fit(x.values, y.values, epochs=100)"
   ]
  },
  {
   "cell_type": "code",
   "execution_count": 22,
   "metadata": {},
   "outputs": [
    {
     "name": "stdout",
     "output_type": "stream",
     "text": [
      "0    22.1\n",
      "1    10.4\n",
      "2     9.3\n",
      "3    18.5\n",
      "4    12.9\n",
      "5     7.2\n",
      "6    11.8\n",
      "7    13.2\n",
      "8     4.8\n",
      "9    10.6\n",
      "Name: sales, dtype: float64\n"
     ]
    }
   ],
   "source": [
    "# test prediction\n",
    "test_x = data.iloc[:10, :-1]\n",
    "test_y = data.iloc[:10, -1]\n",
    "print(test_y)"
   ]
  },
  {
   "cell_type": "code",
   "execution_count": 23,
   "metadata": {},
   "outputs": [
    {
     "data": {
      "text/plain": [
       "array([[22.048382 ],\n",
       "       [12.835471 ],\n",
       "       [ 9.587755 ],\n",
       "       [19.210884 ],\n",
       "       [13.146418 ],\n",
       "       [ 8.138148 ],\n",
       "       [12.345005 ],\n",
       "       [11.718524 ],\n",
       "       [ 2.3513796],\n",
       "       [11.321643 ]], dtype=float32)"
      ]
     },
     "execution_count": 23,
     "metadata": {},
     "output_type": "execute_result"
    }
   ],
   "source": [
    "model.predict(test.values)"
   ]
  },
  {
   "cell_type": "code",
   "execution_count": null,
   "metadata": {},
   "outputs": [],
   "source": []
  }
 ],
 "metadata": {
  "kernelspec": {
   "display_name": "Python 3",
   "language": "python",
   "name": "python3"
  },
  "language_info": {
   "codemirror_mode": {
    "name": "ipython",
    "version": 3
   },
   "file_extension": ".py",
   "mimetype": "text/x-python",
   "name": "python",
   "nbconvert_exporter": "python",
   "pygments_lexer": "ipython3",
   "version": "3.7.3"
  }
 },
 "nbformat": 4,
 "nbformat_minor": 2
}
