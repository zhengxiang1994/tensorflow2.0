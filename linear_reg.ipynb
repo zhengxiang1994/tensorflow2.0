{
 "cells": [
  {
   "cell_type": "code",
   "execution_count": 6,
   "metadata": {},
   "outputs": [],
   "source": [
    "import tensorflow as tf\n",
    "import pandas as pd\n",
    "import matplotlib.pyplot as plt"
   ]
  },
  {
   "cell_type": "code",
   "execution_count": 7,
   "metadata": {},
   "outputs": [
    {
     "name": "stdout",
     "output_type": "stream",
     "text": [
      "2.0.0\n"
     ]
    }
   ],
   "source": [
    "print(tf.__version__)"
   ]
  },
  {
   "cell_type": "code",
   "execution_count": 10,
   "metadata": {},
   "outputs": [
    {
     "name": "stdout",
     "output_type": "stream",
     "text": [
      "    Education   Income\n",
      "0     10.0000  26.6588\n",
      "1     10.4013  27.3064\n",
      "2     10.8428  22.1324\n",
      "3     11.2441  21.1698\n",
      "4     11.6454  15.1926\n",
      "5     12.0870  26.3990\n",
      "6     12.0488  17.4353\n",
      "7     12.8896  25.5079\n",
      "8     13.2910  36.8846\n",
      "9     13.7324  39.6661\n",
      "10    14.1338  34.3963\n",
      "11    14.6351  41.4980\n",
      "12    14.9786  44.9816\n",
      "13    15.3779  47.0396\n",
      "14    15.7793  48.2526\n",
      "15    16.2207  57.0343\n",
      "16    16.6221  51.4909\n",
      "17    17.0234  51.3366\n",
      "18    17.4649  57.6820\n",
      "19    17.8662  68.5537\n",
      "20    18.2676  64.3109\n",
      "21    18.7090  68.9590\n",
      "22    19.1104  74.6146\n",
      "23    19.5117  71.8672\n",
      "24    19.9130  76.0981\n",
      "25    20.3545  75.7752\n",
      "26    20.7559  72.4861\n",
      "27    21.1672  77.3550\n",
      "28    21.5987  72.1188\n",
      "29    22.0000  80.2606\n"
     ]
    }
   ],
   "source": [
    "# load data\n",
    "data = pd.read_csv('./data/income.csv')\n",
    "print(data)"
   ]
  },
  {
   "cell_type": "code",
   "execution_count": 12,
   "metadata": {},
   "outputs": [
    {
     "data": {
      "image/png": "[encoded data removed]",
      "text/plain": [
       "<Figure size 432x288 with 1 Axes>"
      ]
     },
     "metadata": {
      "needs_background": "light"
     },
     "output_type": "display_data"
    }
   ],
   "source": [
    "# visualization\n",
    "plt.scatter(data['Education'], data['Income'])\n",
    "plt.show()"
   ]
  },
  {
   "cell_type": "code",
   "execution_count": 13,
   "metadata": {},
   "outputs": [],
   "source": [
    "# construct net\n",
    "x = data['Education']\n",
    "y = data['Income']\n",
    "model = tf.keras.Sequential()\n",
    "model.add(tf.keras.layers.Dense(units=1, input_shape=(1,)))"
   ]
  },
  {
   "cell_type": "code",
   "execution_count": 14,
   "metadata": {},
   "outputs": [
    {
     "name": "stdout",
     "output_type": "stream",
     "text": [
      "Model: \"sequential\"\n",
      "_________________________________________________________________\n",
      "Layer (type)                 Output Shape              Param #   \n",
      "=================================================================\n",
      "dense (Dense)                (None, 1)                 2         \n",
      "=================================================================\n",
      "Total params: 2\n",
      "Trainable params: 2\n",
      "Non-trainable params: 0\n",
      "_________________________________________________________________\n"
     ]
    }
   ],
   "source": [
    "model.summary()"
   ]
  },
  {
   "cell_type": "code",
   "execution_count": 15,
   "metadata": {},
   "outputs": [],
   "source": [
    "model.compile(optimizer='adam', loss='mse')"
   ]
  },
  {
   "cell_type": "code",
   "execution_count": 16,
   "metadata": {},
   "outputs": [
    {
     "name": "stdout",
     "output_type": "stream",
     "text": [
      "WARNING:tensorflow:Falling back from v2 loop because of error: Failed to find data adapter that can handle input: <class 'pandas.core.series.Series'>, <class 'NoneType'>\n",
      "Train on 30 samples\n",
      "Epoch 1/50\n",
      "30/30 [==============================] - 0s 6ms/sample - loss: 3264.6338\n",
      "Epoch 2/50\n",
      "30/30 [==============================] - 0s 52us/sample - loss: 3262.6848\n",
      "Epoch 3/50\n",
      "30/30 [==============================] - 0s 68us/sample - loss: 3260.7361\n",
      "Epoch 4/50\n",
      "30/30 [==============================] - 0s 94us/sample - loss: 3258.7883\n",
      "Epoch 5/50\n",
      "30/30 [==============================] - 0s 117us/sample - loss: 3256.8411\n",
      "Epoch 6/50\n",
      "30/30 [==============================] - 0s 109us/sample - loss: 3254.8943\n",
      "Epoch 7/50\n",
      "30/30 [==============================] - 0s 105us/sample - loss: 3252.9485\n",
      "Epoch 8/50\n",
      "30/30 [==============================] - 0s 161us/sample - loss: 3251.0032\n",
      "Epoch 9/50\n",
      "30/30 [==============================] - 0s 198us/sample - loss: 3249.0586\n",
      "Epoch 10/50\n",
      "30/30 [==============================] - 0s 122us/sample - loss: 3247.1145\n",
      "Epoch 11/50\n",
      "30/30 [==============================] - 0s 192us/sample - loss: 3245.1714\n",
      "Epoch 12/50\n",
      "30/30 [==============================] - 0s 100us/sample - loss: 3243.2288\n",
      "Epoch 13/50\n",
      "30/30 [==============================] - 0s 346us/sample - loss: 3241.2869\n",
      "Epoch 14/50\n",
      "30/30 [==============================] - 0s 126us/sample - loss: 3239.3459\n",
      "Epoch 15/50\n",
      "30/30 [==============================] - 0s 234us/sample - loss: 3237.4058\n",
      "Epoch 16/50\n",
      "30/30 [==============================] - 0s 671us/sample - loss: 3235.4658\n",
      "Epoch 17/50\n",
      "30/30 [==============================] - 0s 136us/sample - loss: 3233.5271\n",
      "Epoch 18/50\n",
      "30/30 [==============================] - 0s 325us/sample - loss: 3231.5891\n",
      "Epoch 19/50\n",
      "30/30 [==============================] - 0s 110us/sample - loss: 3229.6519\n",
      "Epoch 20/50\n",
      "30/30 [==============================] - 0s 170us/sample - loss: 3227.7151\n",
      "Epoch 21/50\n",
      "30/30 [==============================] - 0s 152us/sample - loss: 3225.7795\n",
      "Epoch 22/50\n",
      "30/30 [==============================] - 0s 278us/sample - loss: 3223.8442\n",
      "Epoch 23/50\n",
      "30/30 [==============================] - 0s 266us/sample - loss: 3221.9104\n",
      "Epoch 24/50\n",
      "30/30 [==============================] - 0s 224us/sample - loss: 3219.9768\n",
      "Epoch 25/50\n",
      "30/30 [==============================] - 0s 215us/sample - loss: 3218.0442\n",
      "Epoch 26/50\n",
      "30/30 [==============================] - 0s 154us/sample - loss: 3216.1125\n",
      "Epoch 27/50\n",
      "30/30 [==============================] - 0s 333us/sample - loss: 3214.1819\n",
      "Epoch 28/50\n",
      "30/30 [==============================] - 0s 181us/sample - loss: 3212.2515\n",
      "Epoch 29/50\n",
      "30/30 [==============================] - 0s 246us/sample - loss: 3210.3220\n",
      "Epoch 30/50\n",
      "30/30 [==============================] - 0s 182us/sample - loss: 3208.3938\n",
      "Epoch 31/50\n",
      "30/30 [==============================] - 0s 252us/sample - loss: 3206.4661\n",
      "Epoch 32/50\n",
      "30/30 [==============================] - 0s 89us/sample - loss: 3204.5396\n",
      "Epoch 33/50\n",
      "30/30 [==============================] - 0s 137us/sample - loss: 3202.6135\n",
      "Epoch 34/50\n",
      "30/30 [==============================] - 0s 123us/sample - loss: 3200.6885\n",
      "Epoch 35/50\n",
      "30/30 [==============================] - 0s 127us/sample - loss: 3198.7642\n",
      "Epoch 36/50\n",
      "30/30 [==============================] - 0s 105us/sample - loss: 3196.8406\n",
      "Epoch 37/50\n",
      "30/30 [==============================] - 0s 118us/sample - loss: 3194.9182\n",
      "Epoch 38/50\n",
      "30/30 [==============================] - 0s 93us/sample - loss: 3192.9963\n",
      "Epoch 39/50\n",
      "30/30 [==============================] - 0s 77us/sample - loss: 3191.0754\n",
      "Epoch 40/50\n",
      "30/30 [==============================] - 0s 137us/sample - loss: 3189.1558\n",
      "Epoch 41/50\n",
      "30/30 [==============================] - 0s 106us/sample - loss: 3187.2368\n",
      "Epoch 42/50\n",
      "30/30 [==============================] - 0s 110us/sample - loss: 3185.3186\n",
      "Epoch 43/50\n",
      "30/30 [==============================] - 0s 127us/sample - loss: 3183.4011\n",
      "Epoch 44/50\n",
      "30/30 [==============================] - 0s 143us/sample - loss: 3181.4846\n",
      "Epoch 45/50\n",
      "30/30 [==============================] - 0s 160us/sample - loss: 3179.5688\n",
      "Epoch 46/50\n",
      "30/30 [==============================] - 0s 86us/sample - loss: 3177.6541\n",
      "Epoch 47/50\n",
      "30/30 [==============================] - 0s 180us/sample - loss: 3175.7405\n",
      "Epoch 48/50\n",
      "30/30 [==============================] - 0s 138us/sample - loss: 3173.8271\n",
      "Epoch 49/50\n",
      "30/30 [==============================] - 0s 146us/sample - loss: 3171.9153\n",
      "Epoch 50/50\n",
      "30/30 [==============================] - 0s 75us/sample - loss: 3170.0042\n"
     ]
    }
   ],
   "source": [
    "history = model.fit(x, y, epochs=50)"
   ]
  },
  {
   "cell_type": "code",
   "execution_count": null,
   "metadata": {},
   "outputs": [],
   "source": []
  }
 ],
 "metadata": {
  "kernelspec": {
   "display_name": "Python 3",
   "language": "python",
   "name": "python3"
  },
  "language_info": {
   "codemirror_mode": {
    "name": "ipython",
    "version": 3
   },
   "file_extension": ".py",
   "mimetype": "text/x-python",
   "name": "python",
   "nbconvert_exporter": "python",
   "pygments_lexer": "ipython3",
   "version": "3.7.3"
  }
 },
 "nbformat": 4,
 "nbformat_minor": 2
}
